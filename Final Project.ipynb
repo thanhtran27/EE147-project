{
  "cells": [
    {
      "cell_type": "markdown",
      "id": "601d3e7a-7322-4554-ad09-960a1e3caf4c",
      "metadata": {
        "id": "601d3e7a-7322-4554-ad09-960a1e3caf4c"
      },
      "source": [
        "### K-NN Algorithim\n",
        "Try increasing the speed of KNN algorithm on CPU"
      ]
    },
    {
      "cell_type": "code",
      "execution_count": 5,
      "id": "2de8f1cd-07d3-4bd3-80aa-d9c6a5a1293f",
      "metadata": {
        "colab": {
          "base_uri": "https://localhost:8080/"
        },
        "id": "2de8f1cd-07d3-4bd3-80aa-d9c6a5a1293f",
        "outputId": "32816a1a-1cef-4e42-ca46-d31da45c551a"
      },
      "outputs": [
        {
          "output_type": "stream",
          "name": "stdout",
          "text": [
            "17.2 ms ± 4.91 ms per loop (mean ± std. dev. of 7 runs, 100 loops each)\n"
          ]
        },
        {
          "output_type": "stream",
          "name": "stderr",
          "text": [
            "/usr/local/lib/python3.10/dist-packages/numba/cuda/dispatcher.py:536: NumbaPerformanceWarning: Grid size 4 will likely result in GPU under-utilization due to low occupancy.\n",
            "  warn(NumbaPerformanceWarning(msg))\n",
            "/usr/local/lib/python3.10/dist-packages/numba/cuda/dispatcher.py:536: NumbaPerformanceWarning: Grid size 8 will likely result in GPU under-utilization due to low occupancy.\n",
            "  warn(NumbaPerformanceWarning(msg))\n"
          ]
        },
        {
          "output_type": "stream",
          "name": "stdout",
          "text": [
            "1.34 ms ± 224 µs per loop (mean ± std. dev. of 7 runs, 1 loop each)\n",
            "2.64 ms ± 73.1 µs per loop (mean ± std. dev. of 7 runs, 100 loops each)\n",
            "CPU Pred Labels: [0 1 0 0 0 0 0 0 1 2 1 1 2 1 1 2 1 0 0 1 1 1 1 0 2 0 2 1 0 2]\n",
            "GPU Pred Labels: [0 1 0 0 0 0 0 0 1 2 1 1 2 1 1 2 1 0 0 1 1 1 1 0 2 0 2 1 0 2]\n"
          ]
        }
      ],
      "source": [
        "import numpy as np\n",
        "import pandas as pd\n",
        "import numba as nb\n",
        "import math\n",
        "from numba import cuda, jit, float32, int32\n",
        "from sklearn.model_selection import train_test_split\n",
        "from sklearn.neighbors import KNeighborsClassifier\n",
        "import time\n",
        "import matplotlib.pyplot as plt\n",
        "\n",
        "# data used for examining the computation speed is iris data\n",
        "data_names = ['sepal_length', 'sepal_width', 'petal_length', 'petal_width', 'label']\n",
        "data = pd.read_csv('iris.data', names = data_names)\n",
        "\n",
        "# Changle the label of data into integers\n",
        "all_vals = data[['sepal_length', 'sepal_width', 'petal_length', 'petal_width']].values\n",
        "all_labels = data['label'].values\n",
        "unique_labels = np.unique(all_labels)\n",
        "#change string labels to numbers\n",
        "new_labels = np.zeros(len(all_labels))\n",
        "for i in range(0,len(unique_labels)):\n",
        "    new_labels[all_labels == unique_labels[i]] = i\n",
        "all_labels = new_labels\n",
        "\n",
        "# Implement k-nn algorithm which is run on CPU\n",
        "def knnclassify_cpu(test_data,training_data, training_labels, K=1):\n",
        "    pred_labels =  [-1]*(len(test_data))\n",
        "    pred_labels = np.array(pred_labels)\n",
        "    for i in range(test_data.shape[0]):\n",
        "        dis = np.zeros(training_data.shape[0])\n",
        "        nb_label = np.zeros(K)\n",
        "        for j in range(len(dis)):\n",
        "            dis[j] = np.linalg.norm(test_data[i]-training_data[j])\n",
        "        sort_idx = np.argsort(dis)\n",
        "        nb_label = np.array(training_labels[sort_idx[:K]])\n",
        "        unique_labels = np.unique(nb_label)\n",
        "        count_labels = np.zeros(len(unique_labels))\n",
        "        for label in nb_label:\n",
        "            for idx in range(len(unique_labels)):\n",
        "                if unique_labels[idx] == label:\n",
        "                    count_labels[idx] += 1\n",
        "        lable_idx = np.argmax(count_labels)\n",
        "        pred_labels[i] = unique_labels[lable_idx]\n",
        "    return pred_labels.astype(int)\n",
        "\n",
        "# Implement k-nn algorithm kernel which is run on GPU\n",
        "\n",
        "MAX_DISTANCE = 100000\n",
        "MAX_LABELS = 100\n",
        "BLOCK_SIZE = 32\n",
        "\n",
        "@cuda.jit\n",
        "def distance_compute(test_data, training_data, dis):\n",
        "    i, j = cuda.grid(2)\n",
        "\n",
        "    # Allocate shared memory for chunk of training data\n",
        "    shared_training = cuda.shared.array(shape=(BLOCK_SIZE, BLOCK_SIZE), dtype=float32)\n",
        "\n",
        "    if i < test_data.shape[0] and j < training_data.shape[0]:\n",
        "        # Load chunk of training data into shared memory\n",
        "        for k in range(0, training_data.shape[1], 16):\n",
        "            idx = k + cuda.threadIdx.x\n",
        "            if idx < training_data.shape[1]:\n",
        "                shared_training[cuda.threadIdx.y, idx - k] = training_data[j, idx]\n",
        "\n",
        "        cuda.syncthreads()\n",
        "\n",
        "        # Compute distance using data in shared memory\n",
        "        squared_sum = 0\n",
        "        for k in range(test_data.shape[1]):\n",
        "            diff = test_data[i, k] - shared_training[cuda.threadIdx.y, k]\n",
        "            squared_sum += diff * diff\n",
        "\n",
        "        # Store distance to global memory using supported built-in function math.sqrt()\n",
        "        dis[i, j] = math.sqrt(squared_sum)\n",
        "\n",
        "@cuda.jit\n",
        "def get_label(dis, pred_labels, K, training_labels):\n",
        "    i = cuda.grid(1)\n",
        "    if i < dis.shape[0]:\n",
        "        # Initialize arrays for nearest neighbor indices and counts\n",
        "        nearest_indices = cuda.local.array(shape=MAX_LABELS, dtype=int32)\n",
        "        label_counts = cuda.local.array(shape=MAX_LABELS, dtype=int32)\n",
        "\n",
        "        # Initialize label counts to zero\n",
        "        for k in range(MAX_LABELS):\n",
        "            label_counts[k] = 0\n",
        "\n",
        "        # Find the indices of the K nearest neighbors\n",
        "        for k in range(K):\n",
        "            min_index = -1\n",
        "            min_distance = MAX_DISTANCE\n",
        "            for j in range(dis.shape[1]):\n",
        "                if dis[i, j] < min_distance:\n",
        "                    min_distance = dis[i, j]\n",
        "                    min_index = j\n",
        "            nearest_indices[k] = min_index\n",
        "            dis[i, min_index] = MAX_DISTANCE\n",
        "\n",
        "        # Count occurrences of each class among nearest neighbors\n",
        "        for k in range(K):\n",
        "            label = training_labels[nearest_indices[k]]\n",
        "            label_counts[label] += 1\n",
        "\n",
        "        # Determine label with highest count\n",
        "        max_label = -1\n",
        "        max_count = -1\n",
        "        for k in range(MAX_LABELS):\n",
        "            if label_counts[k] > max_count:\n",
        "                max_count = label_counts[k]\n",
        "                max_label = k\n",
        "\n",
        "        # Store the result to the global memory predicted labels\n",
        "        pred_labels[i] = max_label\n",
        "\n",
        "\n",
        "def knnclassify_gpu(test_data, training_data, training_labels, K=1):\n",
        "    # Copy data to the device\n",
        "    test_data_d = cuda.to_device(test_data.astype(float))\n",
        "    training_data_d = cuda.to_device(training_data.astype(float))\n",
        "    training_labels_d = cuda.to_device(training_labels.astype(int))\n",
        "\n",
        "\n",
        "    pred_labels = np.empty(test_data.shape[0], dtype=np.int32)\n",
        "\n",
        "    # Allocate memory on the device for the result\n",
        "    dis_d = cuda.device_array((test_data.shape[0], training_data.shape[0]), dtype=np.float32)\n",
        "    pred_labels_d = cuda.device_array(test_data.shape[0],dtype=np.int32)\n",
        "\n",
        "    block_size = (BLOCK_SIZE, BLOCK_SIZE)\n",
        "    grid_size = ((test_data.shape[0] + block_size[0] - 1) // block_size[0],\n",
        "                 (training_data.shape[0] + block_size[1] - 1) // block_size[1])\n",
        "\n",
        "    # Launch Kernel\n",
        "    distance_compute[grid_size, block_size](test_data_d, training_data_d, dis_d)\n",
        "    get_label[(test_data.shape[0] + 4 - 1) // 4,4](dis_d, pred_labels_d, K, training_labels_d)\n",
        "\n",
        "    # Copy the result to host\n",
        "    pred_labels = pred_labels_d.copy_to_host()\n",
        "\n",
        "    return pred_labels\n",
        "\n",
        "# Test and compare between my own CPU implematation, my GPU implematation and SKlearn\n",
        "\n",
        "# Split given data into 2 subsets: one for training and one for testing\n",
        "(training_data, test_data, training_labels, test_labels) = train_test_split(all_vals, all_labels, test_size=0.2)\n",
        "\n",
        "%timeit knnclassify_cpu(test_data, training_data, training_labels, 3)\n",
        "\n",
        "%timeit knnclassify_gpu(test_data, training_data, training_labels, 3)\n",
        "\n",
        "%timeit neigh = KNeighborsClassifier(n_neighbors=3); neigh.fit(training_data, training_labels);neigh.predict(test_data)\n",
        "\n",
        "\n",
        "pred_labels_cpu = knnclassify_cpu(test_data, training_data, training_labels, 3)\n",
        "pred_labels_gpu = knnclassify_gpu(test_data, training_data, training_labels, 3)\n",
        "print(\"CPU Pred Labels:\", pred_labels_cpu)\n",
        "print(\"GPU Pred Labels:\", pred_labels_gpu)\n"
      ]
    },
    {
      "cell_type": "markdown",
      "id": "eb3e7d39-f15f-4fed-a640-2443e60efd4b",
      "metadata": {
        "id": "eb3e7d39-f15f-4fed-a640-2443e60efd4b"
      },
      "source": [
        "### Linear Regression using Gradient Descent with 1000 itertations\n",
        "Try implementing the batch version of Linear Regression with GPU"
      ]
    },
    {
      "cell_type": "code",
      "execution_count": 6,
      "id": "FbQ5dcUI4AwW",
      "metadata": {
        "colab": {
          "base_uri": "https://localhost:8080/",
          "height": 991
        },
        "id": "FbQ5dcUI4AwW",
        "outputId": "1f30eaae-2c1b-4570-9a02-2f9d3297c45b"
      },
      "outputs": [
        {
          "output_type": "stream",
          "name": "stdout",
          "text": [
            "22.8 ms ± 730 µs per loop (mean ± std. dev. of 7 runs, 10 loops each)\n",
            "Parameters: [[0.10331655]\n",
            " [0.76979253]]\n"
          ]
        },
        {
          "output_type": "display_data",
          "data": {
            "text/plain": [
              "<Figure size 640x480 with 1 Axes>"
            ],
            "image/png": "[encoded data removed]"
          },
          "metadata": {}
        },
        {
          "output_type": "stream",
          "name": "stderr",
          "text": [
            "/usr/local/lib/python3.10/dist-packages/numba/cuda/dispatcher.py:536: NumbaPerformanceWarning: Grid size 1 will likely result in GPU under-utilization due to low occupancy.\n",
            "  warn(NumbaPerformanceWarning(msg))\n"
          ]
        },
        {
          "output_type": "stream",
          "name": "stdout",
          "text": [
            "63.8 ms ± 4.12 ms per loop (mean ± std. dev. of 7 runs, 1 loop each)\n",
            "Parameters: [0.10331655 0.76979253]\n"
          ]
        },
        {
          "output_type": "display_data",
          "data": {
            "text/plain": [
              "<Figure size 640x480 with 1 Axes>"
            ],
            "image/png": "[encoded data removed]"
          },
          "metadata": {}
        }
      ],
      "source": [
        "import numpy as np\n",
        "import pandas as pd\n",
        "import numba as nb\n",
        "import math\n",
        "from numba import cuda, jit, float32, int32\n",
        "from sklearn.model_selection import train_test_split\n",
        "from sklearn.neighbors import KNeighborsClassifier\n",
        "import time\n",
        "import matplotlib.pyplot as plt\n",
        "# Linear regression function which is run on host:\n",
        "def compute_parameter(x,y,learning_rate,theta):\n",
        "    mat_x = np.array(x)\n",
        "    mat_x = np.array(np.column_stack((np.ones((mat_x.shape[0],1)),mat_x)))\n",
        "    mat_y = np.array(y)\n",
        "\n",
        "    h_theta = np.matmul(mat_x,theta)\n",
        "    diff = mat_y - h_theta\n",
        "\n",
        "    for i in range(0,theta.shape[0]):\n",
        "        theta[i]+=(learning_rate * np.matmul(diff.T,mat_x[:,i].reshape(x.shape[0],1))).reshape(1)\n",
        "    return theta\n",
        "\n",
        "def linear_regression_gd_cpu(x,y,learning_rate = 0.00001,max_iter=1000):\n",
        "    theta = np.zeros((x.shape[1]+1,1))\n",
        "    for i in range(max_iter):\n",
        "        theta = compute_parameter(x,y,learning_rate,theta)\n",
        "    return theta\n",
        "\n",
        "# Linear regression function which is run on device:\n",
        "@cuda.jit\n",
        "def gradient_descent_kernel(x, y, learning_rate, theta, num_features):\n",
        "    idx = cuda.grid(1)\n",
        "    s_x = cuda.shared.array(shape=(BLOCK_SIZE, 2), dtype=float32)\n",
        "    s_y = cuda.shared.array(shape=BLOCK_SIZE, dtype=float32)\n",
        "\n",
        "    diff = 0.0\n",
        "\n",
        "    if idx < x.shape[0]:\n",
        "        s_y[cuda.threadIdx.x] = y[idx, 0]\n",
        "        for i in range(num_features):\n",
        "            s_x[cuda.threadIdx.x, i] = x[idx, i]\n",
        "        cuda.syncthreads()\n",
        "\n",
        "    if idx < x.shape[0]:\n",
        "        hypothesis = 0.0\n",
        "        for i in range(num_features):\n",
        "            hypothesis += s_x[cuda.threadIdx.x, i] * theta[i]\n",
        "\n",
        "        diff = hypothesis - s_y[cuda.threadIdx.x]\n",
        "\n",
        "        for i in range(num_features):\n",
        "            cuda.atomic.add(theta, i, -learning_rate * diff * s_x[idx, i])\n",
        "\n",
        "\n",
        "def linear_regression_gd_gpu(x,y,learning_rate = 0.00001,max_iter=1000):\n",
        "    # Modify x to have an extra column of 1 so we can use for bias term\n",
        "    x = np.array(x)\n",
        "    x = np.array(np.column_stack((np.ones((x.shape[0],1)),x)))\n",
        "    x = np.float32(x)\n",
        "    num_features = x.shape[1]\n",
        "\n",
        "    theta = np.zeros(2, dtype=np.float32)\n",
        "    x_d = cuda.to_device(x.astype(float))\n",
        "    y_d = cuda.to_device(y.astype(float))\n",
        "    theta_d = cuda.to_device(theta.astype(float))\n",
        "\n",
        "    threads_per_block = 128\n",
        "    blocks_per_grid = (x.shape[0] + threads_per_block - 1) // threads_per_block\n",
        "    for i in range(max_iter):\n",
        "        gradient_descent_kernel[blocks_per_grid, threads_per_block](x_d, y_d, learning_rate, theta_d, num_features)\n",
        "    theta = theta_d.copy_to_host()\n",
        "    return theta\n",
        "\n",
        "\n",
        "# Data used for examining the computation speed is iris data\n",
        "# Modifying it a bit and change its label to number\n",
        "data_names = ['sepal_length', 'sepal_width', 'petal_length', 'petal_width', 'label']\n",
        "data = pd.read_csv('iris.data', names = data_names)\n",
        "sub_data = data.loc[data['label'] != 'Iris-setosa', :]\n",
        "y = sub_data['petal_length'].values\n",
        "x = sub_data['sepal_length'].values\n",
        "x = x.reshape(-1,1)\n",
        "y = y.reshape(-1,1)\n",
        "\n",
        "# Analyze data iris on host\n",
        "%timeit theta = linear_regression_gd_cpu(x,y)\n",
        "theta = linear_regression_gd_cpu(x,y)\n",
        "print('Parameters:',theta)\n",
        "x_new = np.linspace(4,8)\n",
        "y_new = np.add(np.multiply(theta[1],x_new),theta[0])\n",
        "plt.scatter(x,y)\n",
        "plt.plot(x_new,y_new)\n",
        "plt.show()\n",
        "\n",
        "# Analyze data iris on device\n",
        "BLOCK_SIZE = 128\n",
        "%timeit theta = linear_regression_gd_gpu(x,y)\n",
        "theta = linear_regression_gd_gpu(x,y)\n",
        "print('Parameters:',theta)\n",
        "x_new = np.linspace(4,8)\n",
        "y_new = np.add(np.multiply(theta[1],x_new),theta[0])\n",
        "plt.figure()\n",
        "plt.scatter(x,y)\n",
        "plt.plot(x_new,y_new)\n",
        "plt.show()"
      ]
    }
  ],
  "metadata": {
    "accelerator": "GPU",
    "colab": {
      "gpuType": "T4",
      "provenance": []
    },
    "kernelspec": {
      "display_name": "Python 3",
      "name": "python3"
    },
    "language_info": {
      "codemirror_mode": {
        "name": "ipython",
        "version": 3
      },
      "file_extension": ".py",
      "mimetype": "text/x-python",
      "name": "python",
      "nbconvert_exporter": "python",
      "pygments_lexer": "ipython3",
      "version": "3.12.2"
    }
  },
  "nbformat": 4,
  "nbformat_minor": 5
}